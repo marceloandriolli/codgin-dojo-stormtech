{
 "cells": [
  {
   "cell_type": "markdown",
   "metadata": {},
   "source": [
    "The number 6 is a truly great number. Given two int values, a and b, \n",
    "return True if either one is 6. Or if their sum or difference is 6. \n",
    "Note: the function abs(num) computes the absolute value of a number.\n",
    "\n",
    "\n",
    "love6(6, 4) → True\n",
    "\n",
    "love6(4, 5) → False\n",
    "\n",
    "love6(1, 5) → True\n",
    "\n",
    "love6(7,1) \n"
   ]
  },
  {
   "cell_type": "code",
   "execution_count": 9,
   "metadata": {},
   "outputs": [],
   "source": [
    "def love6(a, b):\n",
    "    if 6 in (a, b):\n",
    "        return True\n",
    "    return a+b == 6 or abs(a-b) - 6 == 0 or abs(b-a) - 6 == 0\n",
    "\n",
    "assert love6(6, 4) \n",
    "assert love6(4, 6)\n",
    "assert love6(4, 5) is False\n",
    "assert love6(1, 5)\n",
    "assert love6(-1, 7)\n",
    "assert love6(1, 7)\n",
    "assert love6(-3, -3) is False\n",
    "assert love6(3, -3)\n",
    "assert love6(-3, 3)\n",
    "assert love6(0, 0) is False\n",
    "assert love6(0, -6)\n",
    "assert love6(-6, 0)"
   ]
  },
  {
   "cell_type": "code",
   "execution_count": null,
   "metadata": {},
   "outputs": [],
   "source": []
  }
 ],
 "metadata": {
  "kernelspec": {
   "display_name": "Python 3",
   "language": "python",
   "name": "python3"
  },
  "language_info": {
   "codemirror_mode": {
    "name": "ipython",
    "version": 3
   },
   "file_extension": ".py",
   "mimetype": "text/x-python",
   "name": "python",
   "nbconvert_exporter": "python",
   "pygments_lexer": "ipython3",
   "version": "3.5.2"
  }
 },
 "nbformat": 4,
 "nbformat_minor": 2
}
